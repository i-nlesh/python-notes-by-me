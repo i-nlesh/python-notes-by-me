{
 "cells": [
  {
   "cell_type": "code",
   "execution_count": 1,
   "id": "15e92876-d03b-4d05-bc3c-852210d0e128",
   "metadata": {},
   "outputs": [],
   "source": [
    "#practice programms\n",
    "#lists in python \n",
    "#tuple in python\n",
    "#dictionary in python "
   ]
  },
  {
   "cell_type": "code",
   "execution_count": null,
   "id": "bb69e0d0-0096-436e-8c73-a9f3f2efad34",
   "metadata": {},
   "outputs": [],
   "source": []
  },
  {
   "cell_type": "code",
   "execution_count": 2,
   "id": "e5954074-2595-4556-b22a-ddc468530b9a",
   "metadata": {},
   "outputs": [
    {
     "data": {
      "text/plain": [
       "[]"
      ]
     },
     "execution_count": 2,
     "metadata": {},
     "output_type": "execute_result"
    }
   ],
   "source": [
    "#list is a orderd collection of data items\n",
    "#mutable (can be change after creation \n",
    "#allows duplicate elements \n",
    "# enclosed in square brackets [ ] \n",
    "#create a empty list\n",
    "l =[]\n",
    "l"
   ]
  },
  {
   "cell_type": "code",
   "execution_count": 3,
   "id": "581fe504-db33-49b8-8d8a-cac7ccd4debf",
   "metadata": {},
   "outputs": [
    {
     "data": {
      "text/plain": [
       "list"
      ]
     },
     "execution_count": 3,
     "metadata": {},
     "output_type": "execute_result"
    }
   ],
   "source": [
    "type(l)"
   ]
  },
  {
   "cell_type": "code",
   "execution_count": 4,
   "id": "8f36f45c-089e-456a-9ab6-7032a51c1276",
   "metadata": {},
   "outputs": [
    {
     "name": "stdout",
     "output_type": "stream",
     "text": [
      "['nx', '20', 80.6]\n"
     ]
    }
   ],
   "source": [
    "#creating list using variables \n",
    "name=\"nx\"\n",
    "age=\"20\"\n",
    "persentage=80.60\n",
    "person_list=[name,age,persentage]\n",
    "print(person_list)"
   ]
  },
  {
   "cell_type": "code",
   "execution_count": 5,
   "id": "a9703146-316d-4ed4-b2ff-d8bc1c0d9387",
   "metadata": {},
   "outputs": [
    {
     "data": {
      "text/plain": [
       "['dog', 'germen shepherd', 'reily', 5]"
      ]
     },
     "execution_count": 5,
     "metadata": {},
     "output_type": "execute_result"
    }
   ],
   "source": [
    "pet=\"dog\"\n",
    "breed=\"germen shepherd\"\n",
    "pet_name=\"reily\"\n",
    "age=5\n",
    "my_pet=[pet,breed,pet_name,age]\n",
    "my_pet\n"
   ]
  },
  {
   "cell_type": "code",
   "execution_count": 6,
   "id": "7f3bfccf-aec6-4e65-8146-b3723f9e3db9",
   "metadata": {},
   "outputs": [],
   "source": [
    "#len() append() pop()"
   ]
  },
  {
   "cell_type": "code",
   "execution_count": 7,
   "id": "a3d93ccf-e09e-43f7-9aa9-c745c9aaaac6",
   "metadata": {},
   "outputs": [
    {
     "data": {
      "text/plain": [
       "5"
      ]
     },
     "execution_count": 7,
     "metadata": {},
     "output_type": "execute_result"
    }
   ],
   "source": [
    "my_list=[1,2,3,4,5]\n",
    "lenght=len(my_list)\n",
    "lenght"
   ]
  },
  {
   "cell_type": "code",
   "execution_count": 8,
   "id": "4696d589-0e48-4a96-8aaa-5dbbaf368917",
   "metadata": {},
   "outputs": [
    {
     "data": {
      "text/plain": [
       "4"
      ]
     },
     "execution_count": 8,
     "metadata": {},
     "output_type": "execute_result"
    }
   ],
   "source": [
    "my_pet\n",
    "lenght=len(my_pet)\n",
    "lenght"
   ]
  },
  {
   "cell_type": "code",
   "execution_count": 9,
   "id": "b7cede94-287b-4bf5-b995-d86d7485578e",
   "metadata": {},
   "outputs": [
    {
     "data": {
      "text/plain": [
       "[1, 2, 3, 4, 5, 100]"
      ]
     },
     "execution_count": 9,
     "metadata": {},
     "output_type": "execute_result"
    }
   ],
   "source": [
    "my_list.append(100)\n",
    "my_list"
   ]
  },
  {
   "cell_type": "code",
   "execution_count": 10,
   "id": "43f9fe52-899b-4eb3-980a-c8aa1e174607",
   "metadata": {},
   "outputs": [
    {
     "data": {
      "text/plain": [
       "[1, 2, 3, 4, 5, 100, 10]"
      ]
     },
     "execution_count": 10,
     "metadata": {},
     "output_type": "execute_result"
    }
   ],
   "source": [
    "my_list.append(10)\n",
    "my_list"
   ]
  },
  {
   "cell_type": "code",
   "execution_count": 11,
   "id": "61a0e13f-82ff-4f77-a4ea-f3978cc8fe34",
   "metadata": {},
   "outputs": [
    {
     "data": {
      "text/plain": [
       "[1, 2, 3, 4, 5, 100]"
      ]
     },
     "execution_count": 11,
     "metadata": {},
     "output_type": "execute_result"
    }
   ],
   "source": [
    "my_list.pop()\n",
    "my_list #by default last element removed"
   ]
  },
  {
   "cell_type": "code",
   "execution_count": 12,
   "id": "aff2839c-8391-4b23-9ba4-d0ac047c8c6d",
   "metadata": {},
   "outputs": [
    {
     "data": {
      "text/plain": [
       "['dog', 'germen shepherd', 5]"
      ]
     },
     "execution_count": 12,
     "metadata": {},
     "output_type": "execute_result"
    }
   ],
   "source": [
    "my_pet.pop(-2)\n",
    "my_pet  #using backwqard indexing -2 reily removed"
   ]
  },
  {
   "cell_type": "code",
   "execution_count": 13,
   "id": "dfd11187-52cc-4874-909a-18164eb47069",
   "metadata": {},
   "outputs": [],
   "source": [
    "#insert(), remove(), sort(), reverse()"
   ]
  },
  {
   "cell_type": "code",
   "execution_count": 14,
   "id": "ba3550df-c2d8-49e6-9bbe-54a1190d01d6",
   "metadata": {},
   "outputs": [],
   "source": [
    "new_list=[10,20,30,30,10]"
   ]
  },
  {
   "cell_type": "code",
   "execution_count": 15,
   "id": "50119585-7ea9-4642-8b40-a974700f457d",
   "metadata": {},
   "outputs": [
    {
     "data": {
      "text/plain": [
       "[10, 40, 20, 30, 30, 10]"
      ]
     },
     "execution_count": 15,
     "metadata": {},
     "output_type": "execute_result"
    }
   ],
   "source": [
    "new_list.insert(1,40)\n",
    "new_list    #inseted at the position 1\n",
    "            #insert expected two arguments,"
   ]
  },
  {
   "cell_type": "code",
   "execution_count": 16,
   "id": "2c21013a-309b-4412-8ea1-70924dcec18d",
   "metadata": {},
   "outputs": [
    {
     "data": {
      "text/plain": [
       "[10, 40, 20, 30, 30, 20, 10]"
      ]
     },
     "execution_count": 16,
     "metadata": {},
     "output_type": "execute_result"
    }
   ],
   "source": [
    "new_list.insert(-1,20)\n",
    "new_list"
   ]
  },
  {
   "cell_type": "code",
   "execution_count": 17,
   "id": "ba911341-0f4b-4b94-a7d7-610025dbed8f",
   "metadata": {},
   "outputs": [
    {
     "data": {
      "text/plain": [
       "[10, 10, 20, 20, 30, 30, 40]"
      ]
     },
     "execution_count": 17,
     "metadata": {},
     "output_type": "execute_result"
    }
   ],
   "source": [
    "new_list.sort()\n",
    "new_list #puts on ascending order \n",
    "        #sort can not be use where string and numbers come together"
   ]
  },
  {
   "cell_type": "code",
   "execution_count": 18,
   "id": "92d94f4a-5b23-404b-be35-d8043b26aa29",
   "metadata": {},
   "outputs": [],
   "source": [
    "words=[\"karn\", \"arju\", \"bheem\", \"duryodhan\", \"bheeshma\" ]"
   ]
  },
  {
   "cell_type": "code",
   "execution_count": 19,
   "id": "12485069-6147-429a-b5b9-5fcbe0544e78",
   "metadata": {},
   "outputs": [
    {
     "data": {
      "text/plain": [
       "['karn', 'arju', 'bheem', 'duryodhan', 'bheeshma']"
      ]
     },
     "execution_count": 19,
     "metadata": {},
     "output_type": "execute_result"
    }
   ],
   "source": [
    "words.sort\n",
    "words #ascending order "
   ]
  },
  {
   "cell_type": "code",
   "execution_count": 20,
   "id": "9b0d9119-65eb-48ac-b836-81778b0cc9a2",
   "metadata": {},
   "outputs": [
    {
     "data": {
      "text/plain": [
       "[40, 30, 30, 20, 20, 10, 10]"
      ]
     },
     "execution_count": 20,
     "metadata": {},
     "output_type": "execute_result"
    }
   ],
   "source": [
    "new_list.reverse()\n",
    "new_list #it reverse the list"
   ]
  },
  {
   "cell_type": "code",
   "execution_count": 21,
   "id": "898fa14f-077b-4d1a-a505-28b37c8d5a30",
   "metadata": {},
   "outputs": [
    {
     "data": {
      "text/plain": [
       "['bheeshma', 'duryodhan', 'bheem', 'arju', 'karn']"
      ]
     },
     "execution_count": 21,
     "metadata": {},
     "output_type": "execute_result"
    }
   ],
   "source": [
    "words.reverse()\n",
    "words"
   ]
  },
  {
   "cell_type": "code",
   "execution_count": 22,
   "id": "dd453cd7-1035-4c46-9317-2c99968ab91a",
   "metadata": {},
   "outputs": [
    {
     "data": {
      "text/plain": [
       "['bheeshma', 'duryodhan', 'bheem']"
      ]
     },
     "execution_count": 22,
     "metadata": {},
     "output_type": "execute_result"
    }
   ],
   "source": [
    "#slicing\n",
    "words[0:3]\n",
    "#we dont use slice word insted of this use slice to print portion of the list\n"
   ]
  },
  {
   "cell_type": "code",
   "execution_count": 23,
   "id": "48279a20-7386-4ae8-9f42-7a7e8ac634aa",
   "metadata": {},
   "outputs": [
    {
     "data": {
      "text/plain": [
       "[30, 30, 20]"
      ]
     },
     "execution_count": 23,
     "metadata": {},
     "output_type": "execute_result"
    }
   ],
   "source": [
    "new_list[1:4]"
   ]
  },
  {
   "cell_type": "code",
   "execution_count": 24,
   "id": "0a8f38ac-5eed-4aa9-b84d-771e20ab9f90",
   "metadata": {},
   "outputs": [
    {
     "name": "stdout",
     "output_type": "stream",
     "text": [
      "[40, 30, 30, 20, 20, 10, 10]\n",
      "10\n",
      "10\n",
      "20\n",
      "20\n",
      "30\n",
      "30\n",
      "40\n"
     ]
    }
   ],
   "source": [
    "#forward indexing \n",
    "#backward indexing\n",
    "print(new_list)\n",
    "print(new_list[-1])\n",
    "print(new_list[-2])\n",
    "print(new_list[-3])\n",
    "print(new_list[-4])\n",
    "print(new_list[-5])\n",
    "print(new_list[-6])\n",
    "print(new_list[-7])"
   ]
  },
  {
   "cell_type": "code",
   "execution_count": 25,
   "id": "0dbda75f-2797-4049-ad6b-d25ce9c64190",
   "metadata": {},
   "outputs": [
    {
     "name": "stdout",
     "output_type": "stream",
     "text": [
      "[40, 30, 30, 20, 20, 10, 10]\n",
      "40\n",
      "30\n",
      "30\n",
      "20\n",
      "20\n",
      "10\n",
      "10\n"
     ]
    }
   ],
   "source": [
    "print(new_list)\n",
    "print(new_list[0])\n",
    "print(new_list[1])\n",
    "print(new_list[2])\n",
    "print(new_list[3])\n",
    "print(new_list[4])\n",
    "print(new_list[5])\n",
    "print(new_list[6])"
   ]
  },
  {
   "cell_type": "code",
   "execution_count": 26,
   "id": "f2f346b0-2bd2-413f-af8d-190871550c79",
   "metadata": {},
   "outputs": [
    {
     "data": {
      "text/plain": [
       "[1, 2, 3, 4, 5, 6, 7, 8, 9, 10]"
      ]
     },
     "execution_count": 26,
     "metadata": {},
     "output_type": "execute_result"
    }
   ],
   "source": [
    "a=[1,2,3,4,5,6,7,8,9,10]\n",
    "a"
   ]
  },
  {
   "cell_type": "code",
   "execution_count": 27,
   "id": "66f7d38d-380a-4831-bbc8-9a2356a9457b",
   "metadata": {},
   "outputs": [
    {
     "data": {
      "text/plain": [
       "[1, 2]"
      ]
     },
     "execution_count": 27,
     "metadata": {},
     "output_type": "execute_result"
    }
   ],
   "source": [
    "a[0:8] [:-2][:2] #print at a time "
   ]
  },
  {
   "cell_type": "code",
   "execution_count": 28,
   "id": "aeb2e062-4380-43f5-ae0b-ad0c45b12516",
   "metadata": {},
   "outputs": [
    {
     "data": {
      "text/plain": [
       "5"
      ]
     },
     "execution_count": 28,
     "metadata": {},
     "output_type": "execute_result"
    }
   ],
   "source": [
    "a.index(6)\n",
    "# the index no. of element 6 is 5\n"
   ]
  },
  {
   "cell_type": "code",
   "execution_count": 29,
   "id": "04e08a1d-bcde-4c66-9372-6dcfdea8d31a",
   "metadata": {},
   "outputs": [
    {
     "data": {
      "text/plain": [
       "4"
      ]
     },
     "execution_count": 29,
     "metadata": {},
     "output_type": "execute_result"
    }
   ],
   "source": [
    "index1=a.index(5)\n",
    "index1"
   ]
  },
  {
   "cell_type": "code",
   "execution_count": 30,
   "id": "ea220212-7450-44dc-8b73-48e49c8fa377",
   "metadata": {},
   "outputs": [
    {
     "data": {
      "text/plain": [
       "[1, 2, 3, 4, 5, 6, 7, 8, 9, 10]"
      ]
     },
     "execution_count": 30,
     "metadata": {},
     "output_type": "execute_result"
    }
   ],
   "source": [
    "a.copy()"
   ]
  },
  {
   "cell_type": "code",
   "execution_count": 31,
   "id": "08ee6a1b-8931-4787-a59d-4c57f3705888",
   "metadata": {},
   "outputs": [
    {
     "data": {
      "text/plain": [
       "[1, 2, 3, 4, 5, 6, 7, 8, 9, 10]"
      ]
     },
     "execution_count": 31,
     "metadata": {},
     "output_type": "execute_result"
    }
   ],
   "source": [
    "a.copy()\n"
   ]
  },
  {
   "cell_type": "code",
   "execution_count": 32,
   "id": "1b6c0224-ef89-43d8-8361-93fe6ba9b732",
   "metadata": {},
   "outputs": [
    {
     "data": {
      "text/plain": [
       "1"
      ]
     },
     "execution_count": 32,
     "metadata": {},
     "output_type": "execute_result"
    }
   ],
   "source": [
    "a.count(1)\n",
    "#gives it element and that will tell how many times it repeated."
   ]
  },
  {
   "cell_type": "code",
   "execution_count": 33,
   "id": "93ce5798-65d1-4657-8103-0077ca7e2666",
   "metadata": {
    "scrolled": true
   },
   "outputs": [
    {
     "data": {
      "text/plain": [
       "0"
      ]
     },
     "execution_count": 33,
     "metadata": {},
     "output_type": "execute_result"
    }
   ],
   "source": [
    "a.count(-1)"
   ]
  },
  {
   "cell_type": "code",
   "execution_count": 34,
   "id": "ea7fc6e9-c290-4109-a111-0e6a11e2fd6c",
   "metadata": {},
   "outputs": [
    {
     "data": {
      "text/plain": [
       "[1, 2, 3, 4, 5, 6, 7, 8, 9]"
      ]
     },
     "execution_count": 34,
     "metadata": {},
     "output_type": "execute_result"
    }
   ],
   "source": [
    "a.remove(10)\n",
    "a #10 removed\n",
    "  #given element 10"
   ]
  },
  {
   "cell_type": "code",
   "execution_count": null,
   "id": "d65f6e55-5cde-4b5c-94b1-67695c77646a",
   "metadata": {},
   "outputs": [],
   "source": []
  },
  {
   "cell_type": "markdown",
   "id": "516224f6-6e6c-4478-b84d-dad52b588f16",
   "metadata": {},
   "source": [
    "**TUPLE**"
   ]
  },
  {
   "cell_type": "code",
   "execution_count": 35,
   "id": "deaed246-b07a-472c-b15a-1a4888d347bb",
   "metadata": {},
   "outputs": [
    {
     "data": {
      "text/plain": [
       "'\\n-->> orderd collection of items.\\n-->> immutable (cannot be change after creation).\\n-->> allows duplicate elements \\n-->> enclosed in parenthesis ( ) '"
      ]
     },
     "execution_count": 35,
     "metadata": {},
     "output_type": "execute_result"
    }
   ],
   "source": [
    "'''\n",
    "-->> orderd collection of items.\n",
    "-->> immutable (cannot be change after creation).\n",
    "-->> allows duplicate elements \n",
    "-->> enclosed in parenthesis ( ) '''"
   ]
  },
  {
   "cell_type": "code",
   "execution_count": 36,
   "id": "c1f15979-b7a5-4892-ad83-cc21f4112fc1",
   "metadata": {},
   "outputs": [
    {
     "data": {
      "text/plain": [
       "()"
      ]
     },
     "execution_count": 36,
     "metadata": {},
     "output_type": "execute_result"
    }
   ],
   "source": [
    "#CREATING EMPTY TUPLE\n",
    "t = ()\n",
    "t"
   ]
  },
  {
   "cell_type": "code",
   "execution_count": 37,
   "id": "42d9670e-da12-48ec-9569-a7666f744cdb",
   "metadata": {},
   "outputs": [
    {
     "data": {
      "text/plain": [
       "tuple"
      ]
     },
     "execution_count": 37,
     "metadata": {},
     "output_type": "execute_result"
    }
   ],
   "source": [
    "type(t)"
   ]
  },
  {
   "cell_type": "code",
   "execution_count": 38,
   "id": "29690d0e-f9e3-4c0e-afc4-e340348fd82f",
   "metadata": {},
   "outputs": [
    {
     "data": {
      "text/plain": [
       "(1, 2, 3, 4, 5)"
      ]
     },
     "execution_count": 38,
     "metadata": {},
     "output_type": "execute_result"
    }
   ],
   "source": [
    "#creating tuple using \n",
    "# tuple constructure\n",
    "my_list=[1,2,3,4,5]\n",
    "my_tuple =tuple(my_list)\n",
    "my_tuple"
   ]
  },
  {
   "cell_type": "code",
   "execution_count": 39,
   "id": "88a742c6-2810-44f4-ae2f-ef39cbfc443a",
   "metadata": {},
   "outputs": [
    {
     "data": {
      "text/plain": [
       "('dodge', 'hellcat', 'dark red', 786)"
      ]
     },
     "execution_count": 39,
     "metadata": {},
     "output_type": "execute_result"
    }
   ],
   "source": [
    "#create tuple using variables\n",
    "car_name=\"dodge\"\n",
    "model=\"hellcat\"\n",
    "colour=\"dark red\"\n",
    "hp=786\n",
    "my_car=(car_name,model,colour,hp)\n",
    "my_car"
   ]
  },
  {
   "cell_type": "code",
   "execution_count": 40,
   "id": "e4f94497-bb40-44cb-b05a-86410931d7d6",
   "metadata": {},
   "outputs": [
    {
     "data": {
      "text/plain": [
       "('leo', 'vijay', 67, 'bloody sweet')"
      ]
     },
     "execution_count": 40,
     "metadata": {},
     "output_type": "execute_result"
    }
   ],
   "source": [
    "movie_name=\"leo\"\n",
    "actor =\"vijay\"\n",
    "movie_number=67\n",
    "tagline= \"bloody sweet\"\n",
    "movie=(movie_name,actor,movie_number,tagline)\n",
    "movie"
   ]
  },
  {
   "cell_type": "code",
   "execution_count": 41,
   "id": "e634cd03-c3ff-4479-aece-0e2abbaf15b4",
   "metadata": {},
   "outputs": [
    {
     "data": {
      "text/plain": [
       "(1, 2, 3, 4, 5)"
      ]
     },
     "execution_count": 41,
     "metadata": {},
     "output_type": "execute_result"
    }
   ],
   "source": [
    "#ressigning tuple\n",
    "my_tuple"
   ]
  },
  {
   "cell_type": "code",
   "execution_count": 42,
   "id": "a6411ed4-3764-4163-ac1e-fcea4cddc397",
   "metadata": {},
   "outputs": [
    {
     "data": {
      "text/plain": [
       "(15, 16, 17, 18, 19)"
      ]
     },
     "execution_count": 42,
     "metadata": {},
     "output_type": "execute_result"
    }
   ],
   "source": [
    "my_tuple=(15,16,17,18,19)\n",
    "my_tuple #this is possible , we cant change in tuple but we can simply resign it."
   ]
  },
  {
   "cell_type": "code",
   "execution_count": 43,
   "id": "4e1f06f1-eff3-4252-899b-e5dcb890136c",
   "metadata": {},
   "outputs": [],
   "source": [
    "#  len(),|| count() ,|| index()"
   ]
  },
  {
   "cell_type": "code",
   "execution_count": 44,
   "id": "7745685c-0b5e-4485-9132-62b1e08d0f17",
   "metadata": {},
   "outputs": [
    {
     "data": {
      "text/plain": [
       "('salman', 'sharukh', 'amir', 'sanju', 'jackie')"
      ]
     },
     "execution_count": 44,
     "metadata": {},
     "output_type": "execute_result"
    }
   ],
   "source": [
    "words= (\"salman\",\"sharukh\",\"amir\",\"sanju\",\"jackie\")\n",
    "words"
   ]
  },
  {
   "cell_type": "code",
   "execution_count": 45,
   "id": "9a877dfa-dcbd-4a29-a7a0-71fcb584355f",
   "metadata": {},
   "outputs": [
    {
     "data": {
      "text/plain": [
       "5"
      ]
     },
     "execution_count": 45,
     "metadata": {},
     "output_type": "execute_result"
    }
   ],
   "source": [
    "len(words)"
   ]
  },
  {
   "cell_type": "code",
   "execution_count": 46,
   "id": "4e9a81e6-15d1-4e47-a2e4-4c821be516ad",
   "metadata": {},
   "outputs": [
    {
     "data": {
      "text/plain": [
       "1"
      ]
     },
     "execution_count": 46,
     "metadata": {},
     "output_type": "execute_result"
    }
   ],
   "source": [
    "my_tuple.count(15) #count 15 one time \n"
   ]
  },
  {
   "cell_type": "code",
   "execution_count": 47,
   "id": "ca48ddbb-4e1c-42a6-b9fe-2c27d8c803a8",
   "metadata": {},
   "outputs": [
    {
     "data": {
      "text/plain": [
       "0"
      ]
     },
     "execution_count": 47,
     "metadata": {},
     "output_type": "execute_result"
    }
   ],
   "source": [
    "my_tuple.count(\"jackie\")"
   ]
  },
  {
   "cell_type": "code",
   "execution_count": 48,
   "id": "683f91e8-3a2f-4d43-8560-b1c352ac7063",
   "metadata": {},
   "outputs": [
    {
     "data": {
      "text/plain": [
       "2"
      ]
     },
     "execution_count": 48,
     "metadata": {},
     "output_type": "execute_result"
    }
   ],
   "source": [
    "words.index(\"amir\")"
   ]
  },
  {
   "cell_type": "code",
   "execution_count": 49,
   "id": "3cde64d5-fbea-45a2-83b5-6f0ba9c56b80",
   "metadata": {},
   "outputs": [
    {
     "data": {
      "text/plain": [
       "3"
      ]
     },
     "execution_count": 49,
     "metadata": {},
     "output_type": "execute_result"
    }
   ],
   "source": [
    "words.index(\"sanju\")"
   ]
  },
  {
   "cell_type": "code",
   "execution_count": 50,
   "id": "67f16074-dbf3-45a5-b4f1-a3b5808e45dc",
   "metadata": {},
   "outputs": [
    {
     "data": {
      "text/plain": [
       "['__class__',\n",
       " '__class_getitem__',\n",
       " '__contains__',\n",
       " '__delattr__',\n",
       " '__delitem__',\n",
       " '__dir__',\n",
       " '__doc__',\n",
       " '__eq__',\n",
       " '__format__',\n",
       " '__ge__',\n",
       " '__getattribute__',\n",
       " '__getitem__',\n",
       " '__getstate__',\n",
       " '__gt__',\n",
       " '__hash__',\n",
       " '__init__',\n",
       " '__init_subclass__',\n",
       " '__ior__',\n",
       " '__iter__',\n",
       " '__le__',\n",
       " '__len__',\n",
       " '__lt__',\n",
       " '__ne__',\n",
       " '__new__',\n",
       " '__or__',\n",
       " '__reduce__',\n",
       " '__reduce_ex__',\n",
       " '__repr__',\n",
       " '__reversed__',\n",
       " '__ror__',\n",
       " '__setattr__',\n",
       " '__setitem__',\n",
       " '__sizeof__',\n",
       " '__str__',\n",
       " '__subclasshook__',\n",
       " 'clear',\n",
       " 'copy',\n",
       " 'fromkeys',\n",
       " 'get',\n",
       " 'items',\n",
       " 'keys',\n",
       " 'pop',\n",
       " 'popitem',\n",
       " 'setdefault',\n",
       " 'update',\n",
       " 'values']"
      ]
     },
     "execution_count": 50,
     "metadata": {},
     "output_type": "execute_result"
    }
   ],
   "source": [
    "dir({})"
   ]
  },
  {
   "cell_type": "code",
   "execution_count": null,
   "id": "1b67eb02-652a-4bc5-8939-b5f6da7b8552",
   "metadata": {},
   "outputs": [],
   "source": []
  },
  {
   "cell_type": "markdown",
   "id": "41d24d98-8cae-4645-9d1e-c9fc1d7779b2",
   "metadata": {},
   "source": [
    "**SET**"
   ]
  },
  {
   "cell_type": "code",
   "execution_count": 51,
   "id": "316a52a9-1b6b-4c6e-8313-0f65d6e45f76",
   "metadata": {},
   "outputs": [
    {
     "data": {
      "text/plain": [
       "{}"
      ]
     },
     "execution_count": 51,
     "metadata": {},
     "output_type": "execute_result"
    }
   ],
   "source": [
    "#CREATING SET \n",
    "SET1 ={}\n",
    "SET1"
   ]
  },
  {
   "cell_type": "code",
   "execution_count": 52,
   "id": "d0d5da1d-7317-4a67-900f-0d9173a150e6",
   "metadata": {},
   "outputs": [
    {
     "data": {
      "text/plain": [
       "dict"
      ]
     },
     "execution_count": 52,
     "metadata": {},
     "output_type": "execute_result"
    }
   ],
   "source": [
    "type(SET1)"
   ]
  },
  {
   "cell_type": "code",
   "execution_count": 53,
   "id": "b4cb82d1-70b2-4d01-ad9a-76e1d1bde4c9",
   "metadata": {},
   "outputs": [
    {
     "data": {
      "text/plain": [
       "\" \\n-->> unorderd collection of items \\n-->> mutable\\n-->> does't allow duplicate element \\n-->> enclosed in curly braces { }\""
      ]
     },
     "execution_count": 53,
     "metadata": {},
     "output_type": "execute_result"
    }
   ],
   "source": [
    "''' \n",
    "-->> unorderd collection of items \n",
    "-->> mutable\n",
    "-->> does't allow duplicate element \n",
    "-->> enclosed in curly braces { }'''"
   ]
  },
  {
   "cell_type": "code",
   "execution_count": 54,
   "id": "43ac3a7e-076c-4f8e-a7aa-9408fe7602ed",
   "metadata": {},
   "outputs": [
    {
     "data": {
      "text/plain": [
       "{1, 2, 3, 4, 5}"
      ]
     },
     "execution_count": 54,
     "metadata": {},
     "output_type": "execute_result"
    }
   ],
   "source": [
    "#set creation using set constructor\n",
    "my_set = set([1,2,3,4,5])\n",
    "my_set"
   ]
  },
  {
   "cell_type": "code",
   "execution_count": 55,
   "id": "a5112024-9c7c-4036-8752-4a22b8fd7e04",
   "metadata": {},
   "outputs": [
    {
     "data": {
      "text/plain": [
       "{100, 200, 300, 400, 500}"
      ]
     },
     "execution_count": 55,
     "metadata": {},
     "output_type": "execute_result"
    }
   ],
   "source": [
    "new_set={100,200,300,400,500}\n",
    "new_set"
   ]
  },
  {
   "cell_type": "code",
   "execution_count": 56,
   "id": "4c2dce74-7f7d-4fa5-83a4-752083be5f23",
   "metadata": {},
   "outputs": [],
   "source": [
    "#len() ||   add() ||   remove() || pop()\n"
   ]
  },
  {
   "cell_type": "code",
   "execution_count": 57,
   "id": "ada411b7-314d-4917-a592-1789289166bb",
   "metadata": {},
   "outputs": [
    {
     "data": {
      "text/plain": [
       "5"
      ]
     },
     "execution_count": 57,
     "metadata": {},
     "output_type": "execute_result"
    }
   ],
   "source": [
    "len(new_set)"
   ]
  },
  {
   "cell_type": "code",
   "execution_count": 58,
   "id": "23bd483f-34ee-476a-b24d-130a2b35464d",
   "metadata": {},
   "outputs": [
    {
     "data": {
      "text/plain": [
       "{100, 200, 300, 400, 500, 600}"
      ]
     },
     "execution_count": 58,
     "metadata": {},
     "output_type": "execute_result"
    }
   ],
   "source": [
    "new_set.add(600)\n",
    "new_set"
   ]
  },
  {
   "cell_type": "code",
   "execution_count": 59,
   "id": "b97a6bac-3320-4e37-9254-bd868b1aab86",
   "metadata": {},
   "outputs": [
    {
     "data": {
      "text/plain": [
       "{100, 200, 300, 400, 600}"
      ]
     },
     "execution_count": 59,
     "metadata": {},
     "output_type": "execute_result"
    }
   ],
   "source": [
    "new_set.remove(500)\n",
    "new_set"
   ]
  },
  {
   "cell_type": "code",
   "execution_count": 60,
   "id": "0eb259a7-ef20-459a-a4ef-b9b953d5574a",
   "metadata": {},
   "outputs": [
    {
     "data": {
      "text/plain": [
       "{100, 200, 300, 600}"
      ]
     },
     "execution_count": 60,
     "metadata": {},
     "output_type": "execute_result"
    }
   ],
   "source": [
    "new_set.pop()\n",
    "new_set #remove randomly"
   ]
  },
  {
   "cell_type": "code",
   "execution_count": 61,
   "id": "b065517d-f616-41ec-89fd-72b5a80ea1de",
   "metadata": {},
   "outputs": [
    {
     "data": {
      "text/plain": [
       "{100, 200, 300, 600}"
      ]
     },
     "execution_count": 61,
     "metadata": {},
     "output_type": "execute_result"
    }
   ],
   "source": [
    "\n",
    "new_set"
   ]
  },
  {
   "cell_type": "code",
   "execution_count": 62,
   "id": "5d83cc9e-56d5-47d8-a371-9555c971369c",
   "metadata": {},
   "outputs": [
    {
     "data": {
      "text/plain": [
       "{100, 200, 300}"
      ]
     },
     "execution_count": 62,
     "metadata": {},
     "output_type": "execute_result"
    }
   ],
   "source": [
    "new_set.discard(600)\n",
    "new_set"
   ]
  },
  {
   "cell_type": "code",
   "execution_count": null,
   "id": "4f0c02b8-3187-4232-a5aa-bc0067ec359a",
   "metadata": {},
   "outputs": [],
   "source": []
  },
  {
   "cell_type": "code",
   "execution_count": 63,
   "id": "a9da69b2-ec91-4cf0-82b6-a971e44f1a16",
   "metadata": {},
   "outputs": [],
   "source": [
    "# union |  ||   intersection &  ||   difference -    ||  symmetric_difference ^"
   ]
  },
  {
   "cell_type": "code",
   "execution_count": 64,
   "id": "c267dab2-2a0f-497c-9e87-89cf612b9b02",
   "metadata": {},
   "outputs": [],
   "source": [
    "a={1,2,3,4,5,6,7,8,9}\n",
    "b={1,2,3,4,5}\n",
    "c={10,11}\n"
   ]
  },
  {
   "cell_type": "code",
   "execution_count": 65,
   "id": "748cc0b7-cca6-4e1a-9925-3b6d4bf938a3",
   "metadata": {},
   "outputs": [
    {
     "data": {
      "text/plain": [
       "{1, 2, 3, 4, 5, 6, 7, 8, 9}"
      ]
     },
     "execution_count": 65,
     "metadata": {},
     "output_type": "execute_result"
    }
   ],
   "source": [
    "a.union(b)"
   ]
  },
  {
   "cell_type": "code",
   "execution_count": 66,
   "id": "295a1fbc-ad1f-4a4e-8186-a3043fd19d24",
   "metadata": {},
   "outputs": [
    {
     "data": {
      "text/plain": [
       "{1, 2, 3, 4, 5, 6, 7, 8, 9}"
      ]
     },
     "execution_count": 66,
     "metadata": {},
     "output_type": "execute_result"
    }
   ],
   "source": [
    "a|b"
   ]
  },
  {
   "cell_type": "code",
   "execution_count": 67,
   "id": "1b6ea26d-61db-4ad4-b226-cc54dd511505",
   "metadata": {},
   "outputs": [
    {
     "data": {
      "text/plain": [
       "{1, 2, 3, 4, 5}"
      ]
     },
     "execution_count": 67,
     "metadata": {},
     "output_type": "execute_result"
    }
   ],
   "source": [
    "a.intersection(b)"
   ]
  },
  {
   "cell_type": "code",
   "execution_count": 68,
   "id": "06034095-a25b-42c6-8914-fdd38415806c",
   "metadata": {},
   "outputs": [
    {
     "data": {
      "text/plain": [
       "{1, 2, 3, 4, 5}"
      ]
     },
     "execution_count": 68,
     "metadata": {},
     "output_type": "execute_result"
    }
   ],
   "source": [
    "a&b"
   ]
  },
  {
   "cell_type": "code",
   "execution_count": 69,
   "id": "c5c22e0b-e0b0-42f5-94d7-9ab56a975a73",
   "metadata": {},
   "outputs": [
    {
     "data": {
      "text/plain": [
       "set()"
      ]
     },
     "execution_count": 69,
     "metadata": {},
     "output_type": "execute_result"
    }
   ],
   "source": [
    "a&c"
   ]
  },
  {
   "cell_type": "code",
   "execution_count": 70,
   "id": "e5b92e21-ab53-4b5c-98df-c374f49e9f42",
   "metadata": {},
   "outputs": [
    {
     "data": {
      "text/plain": [
       "{6, 7, 8, 9}"
      ]
     },
     "execution_count": 70,
     "metadata": {},
     "output_type": "execute_result"
    }
   ],
   "source": [
    "a.difference(b)"
   ]
  },
  {
   "cell_type": "code",
   "execution_count": 71,
   "id": "dfec361a-e722-4470-87fc-4f1be1384409",
   "metadata": {},
   "outputs": [
    {
     "data": {
      "text/plain": [
       "{6, 7, 8, 9}"
      ]
     },
     "execution_count": 71,
     "metadata": {},
     "output_type": "execute_result"
    }
   ],
   "source": [
    "a-b"
   ]
  },
  {
   "cell_type": "code",
   "execution_count": 72,
   "id": "d1d7a69a-4d2d-4e4d-bc56-679b7e04679a",
   "metadata": {},
   "outputs": [
    {
     "data": {
      "text/plain": [
       "{1, 2, 3, 4, 5}"
      ]
     },
     "execution_count": 72,
     "metadata": {},
     "output_type": "execute_result"
    }
   ],
   "source": [
    "b-c"
   ]
  },
  {
   "cell_type": "code",
   "execution_count": 73,
   "id": "23143446-9152-4c3c-bbb0-44a83f57729d",
   "metadata": {},
   "outputs": [
    {
     "data": {
      "text/plain": [
       "{1, 2, 3, 4, 5, 6, 7, 8, 9}"
      ]
     },
     "execution_count": 73,
     "metadata": {},
     "output_type": "execute_result"
    }
   ],
   "source": [
    "a-c"
   ]
  },
  {
   "cell_type": "code",
   "execution_count": 74,
   "id": "961e1f02-d800-479e-b266-fd7f5fd03a39",
   "metadata": {},
   "outputs": [
    {
     "data": {
      "text/plain": [
       "{6, 7, 8, 9}"
      ]
     },
     "execution_count": 74,
     "metadata": {},
     "output_type": "execute_result"
    }
   ],
   "source": [
    "a.symmetric_difference(b)"
   ]
  },
  {
   "cell_type": "code",
   "execution_count": 75,
   "id": "1526fb96-8e1a-43ee-aaba-0cf47ea0daaf",
   "metadata": {},
   "outputs": [
    {
     "data": {
      "text/plain": [
       "{6, 7, 8, 9}"
      ]
     },
     "execution_count": 75,
     "metadata": {},
     "output_type": "execute_result"
    }
   ],
   "source": [
    "a^b"
   ]
  },
  {
   "cell_type": "code",
   "execution_count": 76,
   "id": "ebef06ba-68d9-4283-b8c7-0353f7bd121e",
   "metadata": {},
   "outputs": [
    {
     "data": {
      "text/plain": [
       "{1, 2, 3, 4, 5, 6, 7, 8, 9, 10, 11}"
      ]
     },
     "execution_count": 76,
     "metadata": {},
     "output_type": "execute_result"
    }
   ],
   "source": [
    "a^c"
   ]
  },
  {
   "cell_type": "code",
   "execution_count": 77,
   "id": "3c0023fb-a06d-4ff3-adac-25f708287d22",
   "metadata": {},
   "outputs": [
    {
     "data": {
      "text/plain": [
       "{1, 2, 3, 4, 5, 10, 11}"
      ]
     },
     "execution_count": 77,
     "metadata": {},
     "output_type": "execute_result"
    }
   ],
   "source": [
    "b^c"
   ]
  },
  {
   "cell_type": "code",
   "execution_count": 78,
   "id": "dc907c4b-f650-4116-964e-a3cb6b7b6070",
   "metadata": {},
   "outputs": [
    {
     "data": {
      "text/plain": [
       "True"
      ]
     },
     "execution_count": 78,
     "metadata": {},
     "output_type": "execute_result"
    }
   ],
   "source": [
    "a.issuperset(b)"
   ]
  },
  {
   "cell_type": "code",
   "execution_count": 79,
   "id": "7a33d4dc-2911-4908-a690-ea38a8d8f8db",
   "metadata": {},
   "outputs": [
    {
     "data": {
      "text/plain": [
       "True"
      ]
     },
     "execution_count": 79,
     "metadata": {},
     "output_type": "execute_result"
    }
   ],
   "source": [
    "a.isdisjoint(c)"
   ]
  },
  {
   "cell_type": "code",
   "execution_count": 80,
   "id": "8d2233d3-0f91-47bd-879f-106b2696766e",
   "metadata": {},
   "outputs": [
    {
     "data": {
      "text/plain": [
       "True"
      ]
     },
     "execution_count": 80,
     "metadata": {},
     "output_type": "execute_result"
    }
   ],
   "source": [
    "b.issubset(a)"
   ]
  },
  {
   "cell_type": "code",
   "execution_count": 81,
   "id": "05edf3fd-41f4-4ce1-8ca9-c8b0cc250879",
   "metadata": {},
   "outputs": [
    {
     "data": {
      "text/plain": [
       "False"
      ]
     },
     "execution_count": 81,
     "metadata": {},
     "output_type": "execute_result"
    }
   ],
   "source": [
    "b.issuperset(a)"
   ]
  },
  {
   "cell_type": "code",
   "execution_count": 82,
   "id": "e421d4da-8b61-438c-a2db-39c67f40aa0d",
   "metadata": {},
   "outputs": [
    {
     "data": {
      "text/plain": [
       "True"
      ]
     },
     "execution_count": 82,
     "metadata": {},
     "output_type": "execute_result"
    }
   ],
   "source": [
    "b.isdisjoint(c)"
   ]
  },
  {
   "cell_type": "code",
   "execution_count": null,
   "id": "9327647d-7294-46ef-a515-908f0ba22a28",
   "metadata": {},
   "outputs": [],
   "source": []
  },
  {
   "cell_type": "markdown",
   "id": "9321b8d3-f5e7-4e12-9dcd-56d55bb73712",
   "metadata": {},
   "source": [
    "**dictionary**\n"
   ]
  },
  {
   "cell_type": "code",
   "execution_count": 83,
   "id": "d3b99bfb-b31f-4dda-8e66-26ae377b6d3e",
   "metadata": {},
   "outputs": [
    {
     "ename": "SyntaxError",
     "evalue": "incomplete input (2806217076.py, line 1)",
     "output_type": "error",
     "traceback": [
      "\u001b[1;36m  Cell \u001b[1;32mIn[83], line 1\u001b[1;36m\u001b[0m\n\u001b[1;33m    '''\u001b[0m\n\u001b[1;37m    ^\u001b[0m\n\u001b[1;31mSyntaxError\u001b[0m\u001b[1;31m:\u001b[0m incomplete input\n"
     ]
    }
   ],
   "source": [
    "'''\n",
    "-->> unorderd collection of key value pairs \n",
    "-->> mutable\n",
    "-->> keys must be unique and immutable \n",
    "(like number , string or tuple )\n",
    "-->> enclosed in curly braces { } , with key value pairs \n",
    "saprated by colons.\n"
   ]
  },
  {
   "cell_type": "code",
   "execution_count": null,
   "id": "7c8a19d7-8393-4e2f-9458-2311060797b5",
   "metadata": {},
   "outputs": [],
   "source": [
    "a={\"name\":\"jon\",age:30,\"city\":\"new york\"}\n",
    "a"
   ]
  },
  {
   "cell_type": "code",
   "execution_count": null,
   "id": "1c40212a-1299-4c2b-816d-96a154bbacd3",
   "metadata": {},
   "outputs": [],
   "source": [
    "type(a)"
   ]
  },
  {
   "cell_type": "code",
   "execution_count": null,
   "id": "214a9c4f-c367-4752-a41e-daf589695c51",
   "metadata": {},
   "outputs": [],
   "source": [
    "a.items()"
   ]
  },
  {
   "cell_type": "code",
   "execution_count": null,
   "id": "7ec6cf6f-5224-4cba-8760-fb8fa74f69a6",
   "metadata": {},
   "outputs": [],
   "source": [
    "a.keys()"
   ]
  },
  {
   "cell_type": "code",
   "execution_count": null,
   "id": "8753a201-933e-4479-9a0c-390eb5eb6323",
   "metadata": {},
   "outputs": [],
   "source": [
    "a.values()"
   ]
  },
  {
   "cell_type": "code",
   "execution_count": null,
   "id": "e6cb2cdd-a2e6-4233-8412-fa9cae9d8777",
   "metadata": {},
   "outputs": [],
   "source": [
    "a.copy()"
   ]
  },
  {
   "cell_type": "code",
   "execution_count": null,
   "id": "f5c951bc-ce60-4867-8295-13ea586517fb",
   "metadata": {},
   "outputs": [],
   "source": [
    "a.pop(5)\n",
    "a "
   ]
  },
  {
   "cell_type": "code",
   "execution_count": null,
   "id": "25a17adf-0445-4073-8cad-300e91c49765",
   "metadata": {},
   "outputs": [],
   "source": [
    "a.get(\"jon\")\n",
    "a"
   ]
  },
  {
   "cell_type": "code",
   "execution_count": null,
   "id": "bfb3e3cc-239b-4db0-8742-66feb9991fa3",
   "metadata": {},
   "outputs": [],
   "source": [
    "''' here is short note code for tuple , lists , srt snd dict '''"
   ]
  },
  {
   "cell_type": "code",
   "execution_count": null,
   "id": "23a2590b-fed9-4fdf-b168-d91f954cfcb7",
   "metadata": {},
   "outputs": [],
   "source": []
  }
 ],
 "metadata": {
  "kernelspec": {
   "display_name": "Python 3 (ipykernel)",
   "language": "python",
   "name": "python3"
  },
  "language_info": {
   "codemirror_mode": {
    "name": "ipython",
    "version": 3
   },
   "file_extension": ".py",
   "mimetype": "text/x-python",
   "name": "python",
   "nbconvert_exporter": "python",
   "pygments_lexer": "ipython3",
   "version": "3.12.4"
  }
 },
 "nbformat": 4,
 "nbformat_minor": 5
}
